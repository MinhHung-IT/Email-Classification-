{
 "cells": [
  {
   "cell_type": "code",
   "execution_count": null,
   "metadata": {},
   "outputs": [],
   "source": [
    "import pandas as pd\n",
    "import numpy as np\n",
    "from sklearn.model_selection import train_test_split\n",
    "from sklearn.feature_extraction.text import TfidfVectorizer\n",
    "from sklearn.linear_model import LogisticRegression\n",
    "from sklearn.metrics import accuracy_score, classification_report\n",
    "import nltk\n",
    "import re\n",
    "\n",
    "\n",
    "\n",
    "# Đọc dữ liệu từ tệp CSV\n",
    "data = pd.read_csv('mail_data.csv')  # Thay 'mail_data.csv' bằng tên tệp của bạn\n",
    "print(data.head())\n"
   ]
  },
  {
   "cell_type": "code",
   "execution_count": null,
   "metadata": {},
   "outputs": [],
   "source": [
    "# Tải stopwords từ nltk\n",
    "nltk.download('stopwords')\n",
    "from nltk.corpus import stopwords\n",
    "\n",
    "stop_words = set(stopwords.words('english'))\n",
    "\n",
    "# Hàm làm sạch văn bản\n",
    "def clean_text(text):\n",
    "    text = re.sub(r'[^\\w\\s]', '', text)  # Loại bỏ dấu câu\n",
    "    text = text.lower()  # Chuyển thành chữ thường\n",
    "    text = ' '.join([word for word in text.split() if word not in stop_words])  # Loại bỏ từ dừng\n",
    "    return text\n",
    "\n",
    "# Áp dụng hàm làm sạch cho cột chứa email\n",
    "data['Message'] = data['Message'].apply(clean_text)\n",
    "print(data.head())\n"
   ]
  },
  {
   "cell_type": "code",
   "execution_count": null,
   "metadata": {},
   "outputs": [],
   "source": [
    "# Khởi tạo TF-IDF vectorizer\n",
    "vectorizer = TfidfVectorizer(max_features=3000)\n",
    "\n",
    "# Chuyển đổi văn bản thành đặc trưng\n",
    "X = vectorizer.fit_transform(data['Message']).toarray()\n",
    "y = data['Category'].apply(lambda x: 1 if x == 'spam' else 0)  # Chuyển đổi nhãn 'spam' thành 1, 'ham' thành 0\n"
   ]
  },
  {
   "cell_type": "code",
   "execution_count": null,
   "metadata": {},
   "outputs": [],
   "source": [
    "X_train, X_test, y_train, y_test = train_test_split(X, y, test_size=0.2, random_state=42)\n"
   ]
  },
  {
   "cell_type": "code",
   "execution_count": null,
   "metadata": {},
   "outputs": [],
   "source": [
    "# Khởi tạo và huấn luyện mô hình Logistic Regression\n",
    "model = LogisticRegression()\n",
    "model.fit(X_train, y_train)\n"
   ]
  },
  {
   "cell_type": "code",
   "execution_count": null,
   "metadata": {},
   "outputs": [],
   "source": [
    "# Dự đoán trên tập kiểm tra\n",
    "y_pred = model.predict(X_test)\n",
    "\n",
    "# Tính độ chính xác và in báo cáo phân loại\n",
    "accuracy = accuracy_score(y_test, y_pred)\n",
    "print(\"Accuracy:\", accuracy)\n",
    "print(\"Classification Report:\\n\", classification_report(y_test, y_pred))\n"
   ]
  },
  {
   "cell_type": "markdown",
   "metadata": {},
   "source": []
  }
 ],
 "metadata": {
  "language_info": {
   "name": "python"
  }
 },
 "nbformat": 4,
 "nbformat_minor": 2
}
